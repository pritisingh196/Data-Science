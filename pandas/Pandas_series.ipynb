{
  "nbformat": 4,
  "nbformat_minor": 0,
  "metadata": {
    "colab": {
      "provenance": []
    },
    "kernelspec": {
      "name": "python3",
      "display_name": "Python 3"
    },
    "language_info": {
      "name": "python"
    }
  },
  "cells": [
    {
      "cell_type": "code",
      "execution_count": 2,
      "metadata": {
        "colab": {
          "base_uri": "https://localhost:8080/"
        },
        "id": "nqXhYcmH4jen",
        "outputId": "56b7c1ec-a770-4a60-99a8-6feed21227e1"
      },
      "outputs": [
        {
          "output_type": "stream",
          "name": "stdout",
          "text": [
            "0    10\n",
            "1    20\n",
            "2    30\n",
            "dtype: int64\n"
          ]
        }
      ],
      "source": [
        "#A Pandas Series is like a column in a table.\n",
        "#It is a one-dimensional array holding data of any type.\n",
        "\n",
        "import pandas as pd\n",
        "\n",
        "a = [10, 20, 30]\n",
        "\n",
        "var = pd.Series(a)\n",
        "\n",
        "print(var)"
      ]
    },
    {
      "cell_type": "code",
      "source": [
        "import pandas as pd\n",
        "\n",
        "a = [10, 20, 30]\n",
        "\n",
        "var = pd.Series(a, index = [\"x\", \"y\", \"z\"])\n",
        "\n",
        "print(var)"
      ],
      "metadata": {
        "colab": {
          "base_uri": "https://localhost:8080/"
        },
        "id": "lrwrAto8UjB2",
        "outputId": "ac085db1-c04f-4281-c119-2eb14b86ecfa"
      },
      "execution_count": 4,
      "outputs": [
        {
          "output_type": "stream",
          "name": "stdout",
          "text": [
            "x    10\n",
            "y    20\n",
            "z    30\n",
            "dtype: int64\n"
          ]
        }
      ]
    },
    {
      "cell_type": "code",
      "source": [
        "import pandas as pd\n",
        "\n",
        "product = {\"day1\":440, \"day2\": 370, \"day3\": 300}\n",
        "\n",
        "var = pd.Series(product)\n",
        "\n",
        "print(var)"
      ],
      "metadata": {
        "colab": {
          "base_uri": "https://localhost:8080/"
        },
        "id": "IZgoCnnTVAVd",
        "outputId": "bf9989ec-0d37-4c47-e339-280c5e943ffa"
      },
      "execution_count": 8,
      "outputs": [
        {
          "output_type": "stream",
          "name": "stdout",
          "text": [
            "day1    440\n",
            "day2    370\n",
            "day3    300\n",
            "dtype: int64\n"
          ]
        }
      ]
    },
    {
      "cell_type": "code",
      "source": [
        "import pandas as pd\n",
        "\n",
        "product = {\"day1\": 420, \"day2\": 370, \"day3\": 300}\n",
        "\n",
        "var = pd.Series(product, index = [\"day1\", \"day2\"])\n",
        "\n",
        "print(var)"
      ],
      "metadata": {
        "colab": {
          "base_uri": "https://localhost:8080/"
        },
        "id": "CNqzSvwyf-CW",
        "outputId": "b2b7cd6a-d653-45a5-e540-1282f29ab87b"
      },
      "execution_count": 9,
      "outputs": [
        {
          "output_type": "stream",
          "name": "stdout",
          "text": [
            "day1    420\n",
            "day2    370\n",
            "dtype: int64\n"
          ]
        }
      ]
    },
    {
      "cell_type": "code",
      "source": [
        "import pandas as pd\n",
        "\n",
        "name = {\"priti\": 20, \"abhishek\":25, \"ram\": 45}\n",
        "\n",
        "var = pd.Series(name)\n",
        "\n",
        "print(var)"
      ],
      "metadata": {
        "colab": {
          "base_uri": "https://localhost:8080/"
        },
        "id": "tvDwJRrOgzo8",
        "outputId": "7cfedc01-4a0a-4fe5-ea30-bfca615d14ae"
      },
      "execution_count": 11,
      "outputs": [
        {
          "output_type": "stream",
          "name": "stdout",
          "text": [
            "priti       20\n",
            "abhishek    25\n",
            "ram         45\n",
            "dtype: int64\n"
          ]
        }
      ]
    }
  ]
}