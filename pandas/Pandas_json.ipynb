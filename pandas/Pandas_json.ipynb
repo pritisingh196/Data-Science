{
  "nbformat": 4,
  "nbformat_minor": 0,
  "metadata": {
    "colab": {
      "provenance": []
    },
    "kernelspec": {
      "name": "python3",
      "display_name": "Python 3"
    },
    "language_info": {
      "name": "python"
    }
  },
  "cells": [
    {
      "cell_type": "code",
      "execution_count": 2,
      "metadata": {
        "colab": {
          "base_uri": "https://localhost:8080/"
        },
        "id": "l2Qb7nsSob8l",
        "outputId": "e4672b38-858b-4a73-ca5b-cb8fbb580f5c"
      },
      "outputs": [
        {
          "output_type": "stream",
          "name": "stdout",
          "text": [
            "   Duration  range  time  qantity\n",
            "0        60    110   130    409.1\n",
            "1        60    117   145    479.0\n",
            "2        60    103   135    340.0\n",
            "3        45    109   175    282.4\n",
            "4        45    117   148    406.0\n",
            "5        60    102   127    300.5\n"
          ]
        }
      ],
      "source": [
        "#JSON is plain text, but has the format of an object, and is well known in the world of programming, including Pandas.\n",
        "import pandas as pd\n",
        "\n",
        "data = {\n",
        "  \"Duration\":{\n",
        "    \"0\":60,\n",
        "    \"1\":60,\n",
        "    \"2\":60,\n",
        "    \"3\":45,\n",
        "    \"4\":45,\n",
        "    \"5\":60\n",
        "  },\n",
        "  \"range\":{\n",
        "    \"0\":110,\n",
        "    \"1\":117,\n",
        "    \"2\":103,\n",
        "    \"3\":109,\n",
        "    \"4\":117,\n",
        "    \"5\":102\n",
        "  },\n",
        "  \"time\":{\n",
        "    \"0\":130,\n",
        "    \"1\":145,\n",
        "    \"2\":135,\n",
        "    \"3\":175,\n",
        "    \"4\":148,\n",
        "    \"5\":127\n",
        "  },\n",
        "  \"qantity\":{\n",
        "    \"0\":409.1,\n",
        "    \"1\":479.0,\n",
        "    \"2\":340.0,\n",
        "    \"3\":282.4,\n",
        "    \"4\":406.0,\n",
        "    \"5\":300.5\n",
        "  }\n",
        "}\n",
        "\n",
        "df = pd.DataFrame(data)\n",
        "\n",
        "print(df)\n"
      ]
    },
    {
      "cell_type": "code",
      "source": [
        "#json -show data in object form\n"
      ],
      "metadata": {
        "id": "i-wA5kUMpacN"
      },
      "execution_count": null,
      "outputs": []
    },
    {
      "cell_type": "code",
      "source": [
        "import pandas as pd\n",
        "\n",
        "data = {\n",
        "  \"amount\":{\n",
        "    \"0\":60,\n",
        "    \"1\":60,\n",
        "    \"2\":60,\n",
        "    \"3\":45,\n",
        "    \"4\":45,\n",
        "    \"5\":60\n",
        "  },\n",
        "  \"range\":{\n",
        "    \"0\":110,\n",
        "    \"1\":117,\n",
        "    \"2\":103,\n",
        "    \"3\":109,\n",
        "    \"4\":117,\n",
        "    \"5\":102\n",
        "  },\n",
        "  \"time\":{\n",
        "    \"0\":130,\n",
        "    \"1\":145,\n",
        "    \"2\":135,\n",
        "    \"3\":175,\n",
        "    \"4\":148,\n",
        "    \"5\":127\n",
        "  },\n",
        "  \"qantity\":{\n",
        "    \"0\":409.1,\n",
        "    \"1\":479.0,\n",
        "    \"2\":340.0,\n",
        "    \"3\":282.4,\n",
        "    \"4\":406.0,\n",
        "    \"5\":300.5\n",
        "  }\n",
        "}\n",
        "\n",
        "df = pd.DataFrame(data)\n",
        "\n",
        "print(df)"
      ],
      "metadata": {
        "colab": {
          "base_uri": "https://localhost:8080/"
        },
        "id": "2jSEg6WnsqAl",
        "outputId": "cb6256e7-efb2-4813-9642-c8993adca6f7"
      },
      "execution_count": 5,
      "outputs": [
        {
          "output_type": "stream",
          "name": "stdout",
          "text": [
            "   amount  range  time  qantity\n",
            "0      60    110   130    409.1\n",
            "1      60    117   145    479.0\n",
            "2      60    103   135    340.0\n",
            "3      45    109   175    282.4\n",
            "4      45    117   148    406.0\n",
            "5      60    102   127    300.5\n"
          ]
        }
      ]
    }
  ]
}