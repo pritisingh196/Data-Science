{
  "nbformat": 4,
  "nbformat_minor": 0,
  "metadata": {
    "colab": {
      "provenance": []
    },
    "kernelspec": {
      "name": "python3",
      "display_name": "Python 3"
    },
    "language_info": {
      "name": "python"
    }
  },
  "cells": [
    {
      "cell_type": "code",
      "execution_count": 1,
      "metadata": {
        "colab": {
          "base_uri": "https://localhost:8080/"
        },
        "id": "osSyN1hHiJCL",
        "outputId": "392870de-d620-41ff-8c47-2570f6dffa01"
      },
      "outputs": [
        {
          "output_type": "stream",
          "name": "stdout",
          "text": [
            "   cost  quantity\n",
            "0   420        50\n",
            "1   380        40\n",
            "2   390        45\n"
          ]
        }
      ],
      "source": [
        "#A Pandas DataFrame is a 2 dimensional data structure, like a 2 dimensional array, or a table with rows and columns.\n",
        "import pandas as pd\n",
        "\n",
        "data = {\n",
        "  \"cost\": [420, 380, 390],\n",
        "  \"quantity\": [50, 40, 45]\n",
        "}\n",
        "\n",
        "df = pd.DataFrame(data)\n",
        "\n",
        "print(df)"
      ]
    },
    {
      "cell_type": "code",
      "source": [
        "#loc using for index row and col data\n",
        "import pandas as pd\n",
        "\n",
        "data = {\n",
        "  \"cost\": [420, 380, 390],\n",
        "  \"quantity\": [50, 40, 45]\n",
        "}\n",
        "\n",
        "df = pd.DataFrame(data)\n",
        "print(df.loc[0])\n",
        "\n",
        "print(df)"
      ],
      "metadata": {
        "colab": {
          "base_uri": "https://localhost:8080/"
        },
        "id": "AVCuoZs2N_hI",
        "outputId": "58f1b012-7c5f-4b88-dc24-b0de77763a22"
      },
      "execution_count": 2,
      "outputs": [
        {
          "output_type": "stream",
          "name": "stdout",
          "text": [
            "cost        420\n",
            "quantity     50\n",
            "Name: 0, dtype: int64\n",
            "   cost  quantity\n",
            "0   420        50\n",
            "1   380        40\n",
            "2   390        45\n"
          ]
        }
      ]
    },
    {
      "cell_type": "code",
      "source": [
        "##use a list of indexes\n",
        "import pandas as pd\n",
        "\n",
        "data = {\n",
        "  \"cost\": [420, 380, 390],\n",
        "  \"quantity\": [50, 40, 45]\n",
        "}\n",
        "\n",
        "df = pd.DataFrame(data)\n",
        "print(df.loc[[0, 1]])"
      ],
      "metadata": {
        "colab": {
          "base_uri": "https://localhost:8080/"
        },
        "id": "A_rmV-U7XJNo",
        "outputId": "82934c34-76c0-432c-e7f6-3ade3523c884"
      },
      "execution_count": 3,
      "outputs": [
        {
          "output_type": "stream",
          "name": "stdout",
          "text": [
            "   cost  quantity\n",
            "0   420        50\n",
            "1   380        40\n"
          ]
        }
      ]
    },
    {
      "cell_type": "code",
      "source": [
        "#Add a list of names to give each row a name:\n",
        "import pandas as pd\n",
        "\n",
        "data = {\n",
        "  \"cost\": [420, 380, 390],\n",
        "  \"quantity\": [50, 40, 45]\n",
        "}\n",
        "\n",
        "df = pd.DataFrame(data, index = [\"apple\", \"pineapple\", \"grapes\"])\n",
        "\n",
        "print(df)"
      ],
      "metadata": {
        "colab": {
          "base_uri": "https://localhost:8080/"
        },
        "id": "LLGDVDVnXa35",
        "outputId": "234fb91f-2ca6-4ae0-d7cf-f1d04bfe3bcf"
      },
      "execution_count": 7,
      "outputs": [
        {
          "output_type": "stream",
          "name": "stdout",
          "text": [
            "           cost  quantity\n",
            "apple       420        50\n",
            "pineapple   380        40\n",
            "grapes      390        45\n"
          ]
        }
      ]
    },
    {
      "cell_type": "code",
      "source": [
        "#Locate Named Indexes\n",
        "import pandas as pd\n",
        "\n",
        "data = {\n",
        "  \"cost\": [420, 380, 390],\n",
        "  \"quantity\": [50, 40, 45]\n",
        "}\n",
        "\n",
        "df = pd.DataFrame(data, index = [\"day1\", \"day2\", \"day3\"])\n",
        "\n",
        "print(df.loc[\"day2\"])"
      ],
      "metadata": {
        "colab": {
          "base_uri": "https://localhost:8080/"
        },
        "id": "btpJ7QejfThO",
        "outputId": "7815a65f-cca2-493f-ca64-ca7d918c1956"
      },
      "execution_count": 5,
      "outputs": [
        {
          "output_type": "stream",
          "name": "stdout",
          "text": [
            "cost        380\n",
            "quantity     40\n",
            "Name: day2, dtype: int64\n"
          ]
        }
      ]
    },
    {
      "cell_type": "code",
      "source": [
        "#Locate Named Indexes\n",
        "import pandas as pd\n",
        "\n",
        "data = {\n",
        "  \"cost\": [420, 380, 390],\n",
        "  \"quantity\": [50, 40, 45]\n",
        "}\n",
        "\n",
        "df = pd.DataFrame(data, index = [\"one\", \"two\", \"three\"])\n",
        "\n",
        "print(df.loc[\"two\"])"
      ],
      "metadata": {
        "colab": {
          "base_uri": "https://localhost:8080/"
        },
        "id": "_tfGr92Mf7iI",
        "outputId": "7e9e7c40-64b6-4a6f-c30b-a11f3f2cb8c6"
      },
      "execution_count": 6,
      "outputs": [
        {
          "output_type": "stream",
          "name": "stdout",
          "text": [
            "cost        380\n",
            "quantity     40\n",
            "Name: two, dtype: int64\n"
          ]
        }
      ]
    }
  ]
}