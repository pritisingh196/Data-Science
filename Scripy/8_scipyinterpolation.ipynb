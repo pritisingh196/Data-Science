{
  "nbformat": 4,
  "nbformat_minor": 0,
  "metadata": {
    "colab": {
      "provenance": []
    },
    "kernelspec": {
      "name": "python3",
      "display_name": "Python 3"
    },
    "language_info": {
      "name": "python"
    }
  },
  "cells": [
    {
      "cell_type": "code",
      "source": [
        "# What is interpolation: it is a method for generating points between the given points. and the method of filling the values is called imputation.\n",
        "\n",
        "# now how we can implement it in scipy.? -  via module scipy.interpolate\n",
        "# 1D interpolation: interp1d()\n",
        "# here for given xs and ys interpolate values from 2.1, 2.2, 2.3........2.9:\n",
        "from scipy.interpolate import interp1d\n",
        "import numpy as np\n",
        "xs = np.arange(10)\n",
        "ys = 2*xs + 1\n",
        "interp_func = interp1d(xs, ys)\n",
        "sharad = interp_func(np.arange(2.1, 3, 0.1))\n",
        "print(sharad)"
      ],
      "metadata": {
        "colab": {
          "base_uri": "https://localhost:8080/"
        },
        "id": "iSw-dhk-A2yi",
        "outputId": "ff747159-871c-4b7e-cd27-5fdc0468c4f0"
      },
      "execution_count": 18,
      "outputs": [
        {
          "output_type": "stream",
          "name": "stdout",
          "text": [
            "[5.2 5.4 5.6 5.8 6.  6.2 6.4 6.6 6.8]\n"
          ]
        }
      ]
    },
    {
      "cell_type": "code",
      "source": [
        "# spline interpolation:\n",
        "# example: here now we will find the univariate spline interpolation for 2.1, 2.2, 2.3.....2.9 .\n",
        "\n",
        "from scipy.interpolate import UnivariateSpline\n",
        "import numpy as np\n",
        "xs = np.arange(10)\n",
        "ys = xs**2 + np.sin(xs) + 1\n",
        "\n",
        "interp_func = UnivariateSpline(xs,ys)\n",
        "sharad = interp_func(np.arange(2.1, 3, 0.1))\n",
        "\n",
        "print(sharad)"
      ],
      "metadata": {
        "colab": {
          "base_uri": "https://localhost:8080/"
        },
        "id": "18q0TbZHA6BR",
        "outputId": "d701b62f-85f6-4586-d7b5-7aa153fcf8ce"
      },
      "execution_count": 19,
      "outputs": [
        {
          "output_type": "stream",
          "name": "stdout",
          "text": [
            "[5.62826474 6.03987348 6.47131994 6.92265019 7.3939103  7.88514634\n",
            " 8.39640439 8.92773053 9.47917082]\n"
          ]
        }
      ]
    },
    {
      "cell_type": "code",
      "source": [
        "# Interpolation with Radial basis Function(RBF)\n",
        "\n",
        "from scipy.interpolate import Rbf\n",
        "import numpy as np\n",
        "xs = np.arange(10)\n",
        "ys = xs**2 + np.sin(xs) + 1\n",
        "\n",
        "interp_func = Rbf(xs,ys)\n",
        "sharad = interp_func(np.arange(2.1, 3, 0.1))\n",
        "\n",
        "print(sharad)"
      ],
      "metadata": {
        "colab": {
          "base_uri": "https://localhost:8080/"
        },
        "id": "oDSC3Z42A9BM",
        "outputId": "abce2307-e7cb-4a32-ffbd-e1e084e601f9"
      },
      "execution_count": 20,
      "outputs": [
        {
          "output_type": "stream",
          "name": "stdout",
          "text": [
            "[6.25748981 6.62190817 7.00310702 7.40121814 7.8161443  8.24773402\n",
            " 8.69590519 9.16070828 9.64233874]\n"
          ]
        }
      ]
    }
  ]
}