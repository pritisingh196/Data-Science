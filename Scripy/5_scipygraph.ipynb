{
  "nbformat": 4,
  "nbformat_minor": 0,
  "metadata": {
    "colab": {
      "provenance": []
    },
    "kernelspec": {
      "name": "python3",
      "display_name": "Python 3"
    },
    "language_info": {
      "name": "python"
    }
  },
  "cells": [
    {
      "cell_type": "code",
      "source": [
        "# working with graphs: we have a module named scipy.sparse.csgraph\n",
        "# adjacency Matrix: nxn matrix where n is the number of element in the graph.\n",
        "# Connected Component:\n",
        "import numpy as np\n",
        "from scipy.sparse.csgraph import connected_components\n",
        "from scipy.sparse import csr_matrix\n",
        "sharad = np.array([[0,1,2], [1,0,0], [2,0,0]])\n",
        "sharadnew = csr_matrix(sharad)\n",
        "print(connected_components(sharadnew))"
      ],
      "metadata": {
        "colab": {
          "base_uri": "https://localhost:8080/"
        },
        "id": "Yvt_DVxD-Aap",
        "outputId": "e8dd505f-7906-4c5a-fb14-773ed4dd50a2"
      },
      "execution_count": 2,
      "outputs": [
        {
          "output_type": "stream",
          "name": "stdout",
          "text": [
            "(1, array([0, 0, 0], dtype=int32))\n"
          ]
        }
      ]
    },
    {
      "cell_type": "code",
      "source": [
        "# Dijkstra method: for finding the shortest path in a graph from one element to another\n",
        "# it take 3 arg: return_predecessors, indices, limit\n",
        "# here we will find te shortest path from element 1 to 2:\n",
        "import numpy as np\n",
        "from scipy.sparse.csgraph import dijkstra\n",
        "from scipy.sparse import csr_matrix\n",
        "sharad = np.array([[0,1,2], [1,0,0], [2,0,0]])\n",
        "sharadnew = csr_matrix(sharad)\n",
        "print(dijkstra(sharadnew, return_predecessors=True, indices=0))"
      ],
      "metadata": {
        "colab": {
          "base_uri": "https://localhost:8080/"
        },
        "id": "RXdzGnXy-Ag4",
        "outputId": "d155127a-f0bd-4a94-8c72-575b3de996b4"
      },
      "execution_count": 3,
      "outputs": [
        {
          "output_type": "stream",
          "name": "stdout",
          "text": [
            "(array([0., 1., 2.]), array([-9999,     0,     0], dtype=int32))\n"
          ]
        }
      ]
    },
    {
      "cell_type": "code",
      "source": [
        "# Floyd Warshall() method: it is for finding the shortest path between all the pairs of elements.\n",
        "\n",
        "import numpy as np\n",
        "from scipy.sparse.csgraph import floyd_warshall\n",
        "from scipy.sparse import csr_matrix\n",
        "sharad = np.array([[0,1,2], [1,0,0], [2,0,0]])\n",
        "sharadnew = csr_matrix(sharad)\n",
        "print(floyd_warshall(sharadnew, return_predecessors=True))"
      ],
      "metadata": {
        "colab": {
          "base_uri": "https://localhost:8080/"
        },
        "id": "yT-HOlfa-H8Y",
        "outputId": "18dd25e8-eda1-433b-f827-dc5d48ba72ed"
      },
      "execution_count": 4,
      "outputs": [
        {
          "output_type": "stream",
          "name": "stdout",
          "text": [
            "(array([[0., 1., 2.],\n",
            "       [1., 0., 3.],\n",
            "       [2., 3., 0.]]), array([[-9999,     0,     0],\n",
            "       [    1, -9999,     0],\n",
            "       [    2,     0, -9999]], dtype=int32))\n"
          ]
        }
      ]
    },
    {
      "cell_type": "code",
      "source": [
        "# Bellman_ford() method: it is for finding the shortest path between all the pairs of elements but this method can handle negative weight as well:\n",
        "import numpy as np\n",
        "from scipy.sparse.csgraph import bellman_ford\n",
        "from scipy.sparse import csr_matrix\n",
        "sharad = np.array([[0,-1,2], [1,0,0], [2,0,0]])\n",
        "sharadnew = csr_matrix(sharad)\n",
        "print(bellman_ford(sharadnew, return_predecessors=True, indices=0))"
      ],
      "metadata": {
        "colab": {
          "base_uri": "https://localhost:8080/"
        },
        "id": "IJOIxCn1-OIX",
        "outputId": "1f9cecee-b488-461a-90cc-5a45821b2348"
      },
      "execution_count": 5,
      "outputs": [
        {
          "output_type": "stream",
          "name": "stdout",
          "text": [
            "(array([ 0., -1.,  2.]), array([-9999,     0,     0], dtype=int32))\n"
          ]
        }
      ]
    },
    {
      "cell_type": "code",
      "source": [
        "# Depth first order: it returns a depth first traversal froma node: it has 2 argu: the graph, starting element\n",
        "import numpy as np\n",
        "from scipy.sparse.csgraph import depth_first_order\n",
        "from scipy.sparse import csr_matrix\n",
        "sharad = np.array([[0,1,0,1], [1,1,1,1], [2,1,1,0],[0,1,0,1]])\n",
        "sharadnew = csr_matrix(sharad)\n",
        "print(depth_first_order(sharadnew, 1))"
      ],
      "metadata": {
        "colab": {
          "base_uri": "https://localhost:8080/"
        },
        "id": "WC7Sm487-TAv",
        "outputId": "314661c0-ffd7-40fa-f305-5c37326f8137"
      },
      "execution_count": 6,
      "outputs": [
        {
          "output_type": "stream",
          "name": "stdout",
          "text": [
            "(array([1, 0, 3, 2], dtype=int32), array([    1, -9999,     1,     0], dtype=int32))\n"
          ]
        }
      ]
    },
    {
      "cell_type": "code",
      "source": [
        "# breadth_first_order() method: it returns the breadth from a node:it has 2 argu: the graph, starting element\n",
        "import numpy as np\n",
        "from scipy.sparse.csgraph import breadth_first_order\n",
        "from scipy.sparse import csr_matrix\n",
        "sharad = np.array([[0,1,0,1], [1,1,1,1], [2,1,1,0],[0,1,0,1]])\n",
        "sharadnew = csr_matrix(sharad)\n",
        "print(breadth_first_order(sharadnew, 1))\n",
        "\n"
      ],
      "metadata": {
        "colab": {
          "base_uri": "https://localhost:8080/"
        },
        "id": "9o3hpvBD-XZN",
        "outputId": "460cd3fd-0622-42b7-96ad-a5b3301e8ae2"
      },
      "execution_count": 7,
      "outputs": [
        {
          "output_type": "stream",
          "name": "stdout",
          "text": [
            "(array([1, 0, 2, 3], dtype=int32), array([    1, -9999,     1,     1], dtype=int32))\n"
          ]
        }
      ]
    }
  ]
}