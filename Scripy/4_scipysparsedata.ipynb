{
  "nbformat": 4,
  "nbformat_minor": 0,
  "metadata": {
    "colab": {
      "provenance": []
    },
    "kernelspec": {
      "name": "python3",
      "display_name": "Python 3"
    },
    "language_info": {
      "name": "python"
    }
  },
  "cells": [
    {
      "cell_type": "code",
      "execution_count": 8,
      "metadata": {
        "id": "o4SEV26N8Ng7"
      },
      "outputs": [],
      "source": [
        "# What is sparse data: Sparse data is the data that has mostly unused elements. like the elements that dont carry any info. [1,0,2,0,4,5,6,9,2,4]\n",
        "# sparse data example [1,0,2,0,0,3,0,0,0,0,0,4]\n",
        "# Dense Array: [2,5,6,8,9,7,1,2,3,6]\n",
        "# How to work with Sparse Data.\n",
        "# scipy has a module scipy.sparse function. there are 2 matrics in this sparse: CSC(Compressed sparse Column) and CSR(Commpresses Sparse Row)\n",
        "\n",
        "# CSR Matrics: here we will create a CSR matrics from an array:"
      ]
    },
    {
      "cell_type": "code",
      "source": [
        "\n",
        "import numpy as np\n",
        "from scipy.sparse import csr_matrix\n",
        "sharad = np.array([0,0,0,0,0,1,1,0,2])\n",
        "print(csr_matrix(sharad))"
      ],
      "metadata": {
        "colab": {
          "base_uri": "https://localhost:8080/"
        },
        "id": "S5xF7OzD8W2K",
        "outputId": "2ddb6ef3-624d-41bf-af9a-b5a0695a0d26"
      },
      "execution_count": 9,
      "outputs": [
        {
          "output_type": "stream",
          "name": "stdout",
          "text": [
            "  (0, 5)\t1\n",
            "  (0, 6)\t1\n",
            "  (0, 8)\t2\n"
          ]
        }
      ]
    },
    {
      "cell_type": "code",
      "source": [
        "\n",
        "# Sparse matrix Methods\n",
        "import numpy as np\n",
        "from scipy.sparse import csr_matrix\n",
        "sharad = np.array([[0,0,0,],[0,0,1],[1,0,2]])\n",
        "print(csr_matrix(sharad).data)"
      ],
      "metadata": {
        "colab": {
          "base_uri": "https://localhost:8080/"
        },
        "id": "ilmfPBS68a9p",
        "outputId": "82e5c642-9b63-48af-f991-6afc4941a945"
      },
      "execution_count": 10,
      "outputs": [
        {
          "output_type": "stream",
          "name": "stdout",
          "text": [
            "[1 1 2]\n"
          ]
        }
      ]
    },
    {
      "cell_type": "code",
      "source": [
        "# what if we want to count nonzeros, we can do this via count_nonzero() method.\n",
        "import numpy as np\n",
        "from scipy.sparse import csr_matrix\n",
        "sharad = np.array([[0,0,0,],[0,0,1],[1,0,2]])\n",
        "print(csr_matrix(sharad).count_nonzero())"
      ],
      "metadata": {
        "colab": {
          "base_uri": "https://localhost:8080/"
        },
        "id": "EptChRNT8efO",
        "outputId": "e4cfe6b8-ebee-4adb-f3ef-84a4b1ea26bf"
      },
      "execution_count": 11,
      "outputs": [
        {
          "output_type": "stream",
          "name": "stdout",
          "text": [
            "3\n"
          ]
        }
      ]
    },
    {
      "cell_type": "code",
      "source": [
        "# For removing the zero elemements from the matrix we will use eliminate_zeros().\n",
        "import numpy as np\n",
        "from scipy.sparse import csr_matrix\n",
        "sharad = np.array([[0,0,0,],[0,0,1],[1,0,2]])\n",
        "sharadnew = csr_matrix(sharad)\n",
        "sharadnew.eliminate_zeros()\n",
        "print(sharadnew)"
      ],
      "metadata": {
        "colab": {
          "base_uri": "https://localhost:8080/"
        },
        "id": "YtAnXH-E8kRF",
        "outputId": "1100fe57-4b8e-4ef0-c2eb-a4fd86d05036"
      },
      "execution_count": 12,
      "outputs": [
        {
          "output_type": "stream",
          "name": "stdout",
          "text": [
            "  (1, 2)\t1\n",
            "  (2, 0)\t1\n",
            "  (2, 2)\t2\n"
          ]
        }
      ]
    },
    {
      "cell_type": "code",
      "source": [
        "# eliminating duplicate entries with the sum_duplicates() method:\n",
        "import numpy as np\n",
        "from scipy.sparse import csr_matrix\n",
        "sharad = np.array([[0,0,0,],[0,0,1],[1,0,2]])\n",
        "sharadnew = csr_matrix(sharad)\n",
        "sharadnew.sum_duplicates()\n",
        "print(sharadnew)"
      ],
      "metadata": {
        "colab": {
          "base_uri": "https://localhost:8080/"
        },
        "id": "GAbmIKcq8qWK",
        "outputId": "e0730ce1-ec01-4bea-8660-cfc20943497f"
      },
      "execution_count": 13,
      "outputs": [
        {
          "output_type": "stream",
          "name": "stdout",
          "text": [
            "  (1, 2)\t1\n",
            "  (2, 0)\t1\n",
            "  (2, 2)\t2\n"
          ]
        }
      ]
    },
    {
      "cell_type": "code",
      "source": [
        "# here we will convert csr to csc with the tocsc():\n",
        "import numpy as np\n",
        "from scipy.sparse import csr_matrix\n",
        "sharad = np.array([[0,0,0,],[0,0,1],[1,0,2]])\n",
        "sharadnew = csr_matrix(sharad).tocsc()\n",
        "print(sharadnew)"
      ],
      "metadata": {
        "colab": {
          "base_uri": "https://localhost:8080/"
        },
        "id": "z_bJTEZ28tfz",
        "outputId": "136b52b9-4bc3-44ec-dff6-6c0f729c759c"
      },
      "execution_count": 14,
      "outputs": [
        {
          "output_type": "stream",
          "name": "stdout",
          "text": [
            "  (2, 0)\t1\n",
            "  (1, 2)\t1\n",
            "  (2, 2)\t2\n"
          ]
        }
      ]
    }
  ]
}