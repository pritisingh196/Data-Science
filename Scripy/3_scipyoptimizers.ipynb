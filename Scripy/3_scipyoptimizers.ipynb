{
  "nbformat": 4,
  "nbformat_minor": 0,
  "metadata": {
    "colab": {
      "provenance": []
    },
    "kernelspec": {
      "name": "python3",
      "display_name": "Python 3"
    },
    "language_info": {
      "name": "python"
    }
  },
  "cells": [
    {
      "cell_type": "code",
      "execution_count": 7,
      "metadata": {
        "colab": {
          "base_uri": "https://localhost:8080/"
        },
        "id": "C3Fy7ZOU7Szp",
        "outputId": "71f158cc-e54b-4b9b-c474-aba6b8786511"
      },
      "outputs": [
        {
          "output_type": "stream",
          "name": "stdout",
          "text": [
            "  message: Optimization terminated successfully.\n",
            "  success: True\n",
            "   status: 0\n",
            "      fun: 1.75\n",
            "        x: [-5.000e-01]\n",
            "      nit: 2\n",
            "      jac: [ 0.000e+00]\n",
            " hess_inv: [[ 5.000e-01]]\n",
            "     nfev: 8\n",
            "     njev: 4\n"
          ]
        }
      ],
      "source": [
        "# OPtimizers in SCipy: they are a set of procedures defined in scipy that either find the minimum value of a function or a root of an equation.\n",
        "# optimizing function: all the algorithms which helps in minimizing the data.\n",
        "# Root of an equation: x + cos(x), we will solve it via optimize.root function.\n",
        "# this function takes 2 arguments: \"fun\" and x0\n",
        "# example: here we will find the root of the equation x + cos(x) :\n",
        "# Minimizing the Function or data:\n",
        "# high points are called maxima and low points are called minima.\n",
        "# finding the Minima:\n",
        "# we use scipy.optimize.minimize(). it uses 3 arguments: \"fun\", x0 and method:it also has some legal values: \"CG\", \"BFGS\", \"NEWTON-CG\", \"L-BFGS-B\", \"TNC\", \"COBYLA\", \"SLSQP\".\n",
        "# callback: functions called after each iteration of optimizations.\n",
        "\n",
        "# Example of the above: in which we will minimize the function: x^2 + x + 2 with BFGS:\n",
        "\n",
        "from scipy.optimize import minimize\n",
        "def eqn(x):\n",
        "    return x**2 + x + 2\n",
        "mymin = minimize(eqn, 0, method='BFGS')\n",
        "print(mymin)"
      ]
    },
    {
      "cell_type": "code",
      "source": [
        "from scipy.optimize import root\n",
        "from math import cos\n",
        "\n",
        "def eqn(x):\n",
        "    return x + cos(x)\n",
        "pdroot = root(eqn, 0)\n",
        "print(pdroot.x)"
      ],
      "metadata": {
        "colab": {
          "base_uri": "https://localhost:8080/"
        },
        "id": "yUZ5hMZk7gzS",
        "outputId": "09f7b016-6cd2-4eab-834d-68227a2c9a81"
      },
      "execution_count": 8,
      "outputs": [
        {
          "output_type": "stream",
          "name": "stdout",
          "text": [
            "[-0.73908513]\n"
          ]
        }
      ]
    },
    {
      "cell_type": "code",
      "source": [
        "# here we want the info about not just x but the whole root:\n",
        "from scipy.optimize import root\n",
        "from math import cos\n",
        "\n",
        "def eqn(x):\n",
        "    return x + cos(x)\n",
        "pdroot = root(eqn, 0)\n",
        "print(pdroot)"
      ],
      "metadata": {
        "colab": {
          "base_uri": "https://localhost:8080/"
        },
        "id": "8-skcngV7snc",
        "outputId": "e49b60e0-306e-4802-f2c9-20083ba127e9"
      },
      "execution_count": 9,
      "outputs": [
        {
          "output_type": "stream",
          "name": "stdout",
          "text": [
            " message: The solution converged.\n",
            " success: True\n",
            "  status: 1\n",
            "     fun: [ 0.000e+00]\n",
            "       x: [-7.391e-01]\n",
            "    nfev: 9\n",
            "    fjac: [[-1.000e+00]]\n",
            "       r: [-1.674e+00]\n",
            "     qtf: [-2.668e-13]\n"
          ]
        }
      ]
    }
  ]
}