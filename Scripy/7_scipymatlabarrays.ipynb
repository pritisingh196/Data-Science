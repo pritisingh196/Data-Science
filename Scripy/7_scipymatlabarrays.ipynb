{
  "nbformat": 4,
  "nbformat_minor": 0,
  "metadata": {
    "colab": {
      "provenance": []
    },
    "kernelspec": {
      "name": "python3",
      "display_name": "Python 3"
    },
    "language_info": {
      "name": "python"
    }
  },
  "cells": [
    {
      "cell_type": "code",
      "source": [
        "# Scipy matlab Arrays: Exporting the data in Matlab format\n",
        "# for converting or export data we use savemat(). here we have 3 parameters: filename, mdict, do_compression.\n",
        "# example : here now we will export the below array as variable name \"vec\" to mat file.\n",
        "from scipy import io\n",
        "import numpy as np\n",
        "sharad = np.arange(10)\n",
        "io.savemat('sharad.mat', {\"vec\": sharad})"
      ],
      "metadata": {
        "id": "O2WfDOjzARqo"
      },
      "execution_count": 13,
      "outputs": []
    },
    {
      "cell_type": "code",
      "source": [
        "# here now we will import the existing mat file. it have only 1 parameter that is filename:\n",
        "\n",
        "from scipy import io\n",
        "import numpy as np\n",
        "sharad = np.array([0,1,2,3,4,5,6,7,8,9])\n",
        "#Export\n",
        "io.savemat('sharad.mat', {\"vec\": sharad})\n",
        "#import\n",
        "sharadnew = io.loadmat('sharad.mat', squeeze_me = True)\n",
        "print(sharadnew['vec'])"
      ],
      "metadata": {
        "colab": {
          "base_uri": "https://localhost:8080/"
        },
        "id": "CauyCWTXATYt",
        "outputId": "415616b8-c144-4ce6-d589-1f482919b82b"
      },
      "execution_count": 14,
      "outputs": [
        {
          "output_type": "stream",
          "name": "stdout",
          "text": [
            "[0 1 2 3 4 5 6 7 8 9]\n"
          ]
        }
      ]
    }
  ]
}